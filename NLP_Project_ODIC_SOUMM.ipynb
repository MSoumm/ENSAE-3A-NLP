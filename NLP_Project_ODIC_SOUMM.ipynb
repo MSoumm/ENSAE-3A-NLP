{
  "nbformat": 4,
  "nbformat_minor": 0,
  "metadata": {
    "colab": {
      "name": "NLP Project ODIC SOUMM.ipynb",
      "provenance": [],
      "collapsed_sections": [],
      "authorship_tag": "ABX9TyOLNgYYjHRgO6XFhDRrrU1s"
    },
    "kernelspec": {
      "name": "python3",
      "display_name": "Python 3"
    },
    "language_info": {
      "name": "python"
    },
    "accelerator": "GPU"
  },
  "cells": [
    {
      "cell_type": "markdown",
      "metadata": {
        "id": "t1jY2zW4eS3z"
      },
      "source": [
        "Téléchargement de la base"
      ]
    },
    {
      "cell_type": "code",
      "metadata": {
        "id": "HzgY7lsXM_c1",
        "colab": {
          "base_uri": "https://localhost:8080/"
        },
        "outputId": "a57dbe33-3189-495a-e91c-b46fd0e3db7a"
      },
      "source": [
        "!wget https://www.dropbox.com/s/sbiotru4wlr3ykj/train.csv.zip?dl=0 -O train.csv.zip\n",
        "\n",
        "!unzip train.csv.zip"
      ],
      "execution_count": 1,
      "outputs": [
        {
          "output_type": "stream",
          "text": [
            "--2021-04-18 09:28:11--  https://www.dropbox.com/s/sbiotru4wlr3ykj/train.csv.zip?dl=0\n",
            "Resolving www.dropbox.com (www.dropbox.com)... 162.125.6.18, 2620:100:601c:18::a27d:612\n",
            "Connecting to www.dropbox.com (www.dropbox.com)|162.125.6.18|:443... connected.\n",
            "HTTP request sent, awaiting response... 301 Moved Permanently\n",
            "Location: /s/raw/sbiotru4wlr3ykj/train.csv.zip [following]\n",
            "--2021-04-18 09:28:11--  https://www.dropbox.com/s/raw/sbiotru4wlr3ykj/train.csv.zip\n",
            "Reusing existing connection to www.dropbox.com:443.\n",
            "HTTP request sent, awaiting response... 302 Found\n",
            "Location: https://uc28b8d8754f9a1f43b974bba4bb.dl.dropboxusercontent.com/cd/0/inline/BM1t3cTcgfpC2d2azFU4AnF6cgOoyX2d0ECGshMxb7B3yOJW6MHK77x52QL_9M6k9cBgIAJQ4XLliBfWBU7PdTFKKfQw3JaATEjQsAXO_eXrziEF597smTGTNy_nWxKEBmTjsSQDsjVDjrcluDxzbqAR/file# [following]\n",
            "--2021-04-18 09:28:11--  https://uc28b8d8754f9a1f43b974bba4bb.dl.dropboxusercontent.com/cd/0/inline/BM1t3cTcgfpC2d2azFU4AnF6cgOoyX2d0ECGshMxb7B3yOJW6MHK77x52QL_9M6k9cBgIAJQ4XLliBfWBU7PdTFKKfQw3JaATEjQsAXO_eXrziEF597smTGTNy_nWxKEBmTjsSQDsjVDjrcluDxzbqAR/file\n",
            "Resolving uc28b8d8754f9a1f43b974bba4bb.dl.dropboxusercontent.com (uc28b8d8754f9a1f43b974bba4bb.dl.dropboxusercontent.com)... 162.125.6.15, 2620:100:601c:15::a27d:60f\n",
            "Connecting to uc28b8d8754f9a1f43b974bba4bb.dl.dropboxusercontent.com (uc28b8d8754f9a1f43b974bba4bb.dl.dropboxusercontent.com)|162.125.6.15|:443... connected.\n",
            "HTTP request sent, awaiting response... 302 Found\n",
            "Location: /cd/0/inline2/BM27H4wm3Q7E59QHhpMNwblcCyCavRHs5zRqEnD6O2RN0iuqgONtY6oJoVJSctTGXmbLO9zc0I4DkPOK5UH6NZXVHQ5B5Ucrzd2gRvYp6dWqdPnhWc2w62-04rALMrlKfatrVCvHvCZ-KXCYgPntSN6YeEwHsNfvyzVWSeJkDsW8kABOX5gwHv1wgEpeuo-yJWQyBxOTMYh75cAO2W-lxgKUbwjTjJOP0yG6MM2RqTSphJ0ZDvONmFxXvrzywBaQo-IdH85ANHmxZ9lYGgDElOc02rVxyJCT4HK2USJCv9i8vMxvj461XpZcHkH6vcvcqwq4vsr5Ax1FfF4_yajW0uK0-J_z0T1H354Ep9yjsIrrEM76TX5f1MboxIZcNZsSYnc/file [following]\n",
            "--2021-04-18 09:28:12--  https://uc28b8d8754f9a1f43b974bba4bb.dl.dropboxusercontent.com/cd/0/inline2/BM27H4wm3Q7E59QHhpMNwblcCyCavRHs5zRqEnD6O2RN0iuqgONtY6oJoVJSctTGXmbLO9zc0I4DkPOK5UH6NZXVHQ5B5Ucrzd2gRvYp6dWqdPnhWc2w62-04rALMrlKfatrVCvHvCZ-KXCYgPntSN6YeEwHsNfvyzVWSeJkDsW8kABOX5gwHv1wgEpeuo-yJWQyBxOTMYh75cAO2W-lxgKUbwjTjJOP0yG6MM2RqTSphJ0ZDvONmFxXvrzywBaQo-IdH85ANHmxZ9lYGgDElOc02rVxyJCT4HK2USJCv9i8vMxvj461XpZcHkH6vcvcqwq4vsr5Ax1FfF4_yajW0uK0-J_z0T1H354Ep9yjsIrrEM76TX5f1MboxIZcNZsSYnc/file\n",
            "Reusing existing connection to uc28b8d8754f9a1f43b974bba4bb.dl.dropboxusercontent.com:443.\n",
            "HTTP request sent, awaiting response... 200 OK\n",
            "Length: 289820185 (276M) [application/zip]\n",
            "Saving to: ‘train.csv.zip’\n",
            "\n",
            "train.csv.zip       100%[===================>] 276.39M   128MB/s    in 2.2s    \n",
            "\n",
            "2021-04-18 09:28:14 (128 MB/s) - ‘train.csv.zip’ saved [289820185/289820185]\n",
            "\n",
            "Archive:  train.csv.zip\n",
            "  inflating: train.csv               \n"
          ],
          "name": "stdout"
        }
      ]
    },
    {
      "cell_type": "markdown",
      "metadata": {
        "id": "aT5-m78ueYYz"
      },
      "source": [
        "Imports"
      ]
    },
    {
      "cell_type": "code",
      "metadata": {
        "colab": {
          "base_uri": "https://localhost:8080/"
        },
        "id": "adGlfP1rdIvx",
        "outputId": "b2029ae9-48e5-4e40-8da5-cd9d516ac41d"
      },
      "source": [
        "!pip install transformers"
      ],
      "execution_count": 2,
      "outputs": [
        {
          "output_type": "stream",
          "text": [
            "Collecting transformers\n",
            "\u001b[?25l  Downloading https://files.pythonhosted.org/packages/d8/b2/57495b5309f09fa501866e225c84532d1fd89536ea62406b2181933fb418/transformers-4.5.1-py3-none-any.whl (2.1MB)\n",
            "\r\u001b[K     |▏                               | 10kB 25.1MB/s eta 0:00:01\r\u001b[K     |▎                               | 20kB 31.8MB/s eta 0:00:01\r\u001b[K     |▌                               | 30kB 25.1MB/s eta 0:00:01\r\u001b[K     |▋                               | 40kB 22.9MB/s eta 0:00:01\r\u001b[K     |▉                               | 51kB 24.1MB/s eta 0:00:01\r\u001b[K     |█                               | 61kB 17.3MB/s eta 0:00:01\r\u001b[K     |█▏                              | 71kB 16.8MB/s eta 0:00:01\r\u001b[K     |█▎                              | 81kB 17.5MB/s eta 0:00:01\r\u001b[K     |█▍                              | 92kB 16.4MB/s eta 0:00:01\r\u001b[K     |█▋                              | 102kB 16.5MB/s eta 0:00:01\r\u001b[K     |█▊                              | 112kB 16.5MB/s eta 0:00:01\r\u001b[K     |██                              | 122kB 16.5MB/s eta 0:00:01\r\u001b[K     |██                              | 133kB 16.5MB/s eta 0:00:01\r\u001b[K     |██▎                             | 143kB 16.5MB/s eta 0:00:01\r\u001b[K     |██▍                             | 153kB 16.5MB/s eta 0:00:01\r\u001b[K     |██▌                             | 163kB 16.5MB/s eta 0:00:01\r\u001b[K     |██▊                             | 174kB 16.5MB/s eta 0:00:01\r\u001b[K     |██▉                             | 184kB 16.5MB/s eta 0:00:01\r\u001b[K     |███                             | 194kB 16.5MB/s eta 0:00:01\r\u001b[K     |███▏                            | 204kB 16.5MB/s eta 0:00:01\r\u001b[K     |███▍                            | 215kB 16.5MB/s eta 0:00:01\r\u001b[K     |███▌                            | 225kB 16.5MB/s eta 0:00:01\r\u001b[K     |███▋                            | 235kB 16.5MB/s eta 0:00:01\r\u001b[K     |███▉                            | 245kB 16.5MB/s eta 0:00:01\r\u001b[K     |████                            | 256kB 16.5MB/s eta 0:00:01\r\u001b[K     |████▏                           | 266kB 16.5MB/s eta 0:00:01\r\u001b[K     |████▎                           | 276kB 16.5MB/s eta 0:00:01\r\u001b[K     |████▌                           | 286kB 16.5MB/s eta 0:00:01\r\u001b[K     |████▋                           | 296kB 16.5MB/s eta 0:00:01\r\u001b[K     |████▊                           | 307kB 16.5MB/s eta 0:00:01\r\u001b[K     |█████                           | 317kB 16.5MB/s eta 0:00:01\r\u001b[K     |█████                           | 327kB 16.5MB/s eta 0:00:01\r\u001b[K     |█████▎                          | 337kB 16.5MB/s eta 0:00:01\r\u001b[K     |█████▍                          | 348kB 16.5MB/s eta 0:00:01\r\u001b[K     |█████▋                          | 358kB 16.5MB/s eta 0:00:01\r\u001b[K     |█████▊                          | 368kB 16.5MB/s eta 0:00:01\r\u001b[K     |█████▉                          | 378kB 16.5MB/s eta 0:00:01\r\u001b[K     |██████                          | 389kB 16.5MB/s eta 0:00:01\r\u001b[K     |██████▏                         | 399kB 16.5MB/s eta 0:00:01\r\u001b[K     |██████▍                         | 409kB 16.5MB/s eta 0:00:01\r\u001b[K     |██████▌                         | 419kB 16.5MB/s eta 0:00:01\r\u001b[K     |██████▊                         | 430kB 16.5MB/s eta 0:00:01\r\u001b[K     |██████▉                         | 440kB 16.5MB/s eta 0:00:01\r\u001b[K     |███████                         | 450kB 16.5MB/s eta 0:00:01\r\u001b[K     |███████▏                        | 460kB 16.5MB/s eta 0:00:01\r\u001b[K     |███████▎                        | 471kB 16.5MB/s eta 0:00:01\r\u001b[K     |███████▌                        | 481kB 16.5MB/s eta 0:00:01\r\u001b[K     |███████▋                        | 491kB 16.5MB/s eta 0:00:01\r\u001b[K     |███████▉                        | 501kB 16.5MB/s eta 0:00:01\r\u001b[K     |████████                        | 512kB 16.5MB/s eta 0:00:01\r\u001b[K     |████████                        | 522kB 16.5MB/s eta 0:00:01\r\u001b[K     |████████▎                       | 532kB 16.5MB/s eta 0:00:01\r\u001b[K     |████████▍                       | 542kB 16.5MB/s eta 0:00:01\r\u001b[K     |████████▋                       | 552kB 16.5MB/s eta 0:00:01\r\u001b[K     |████████▊                       | 563kB 16.5MB/s eta 0:00:01\r\u001b[K     |█████████                       | 573kB 16.5MB/s eta 0:00:01\r\u001b[K     |█████████                       | 583kB 16.5MB/s eta 0:00:01\r\u001b[K     |█████████▎                      | 593kB 16.5MB/s eta 0:00:01\r\u001b[K     |█████████▍                      | 604kB 16.5MB/s eta 0:00:01\r\u001b[K     |█████████▌                      | 614kB 16.5MB/s eta 0:00:01\r\u001b[K     |█████████▊                      | 624kB 16.5MB/s eta 0:00:01\r\u001b[K     |█████████▉                      | 634kB 16.5MB/s eta 0:00:01\r\u001b[K     |██████████                      | 645kB 16.5MB/s eta 0:00:01\r\u001b[K     |██████████▏                     | 655kB 16.5MB/s eta 0:00:01\r\u001b[K     |██████████▍                     | 665kB 16.5MB/s eta 0:00:01\r\u001b[K     |██████████▌                     | 675kB 16.5MB/s eta 0:00:01\r\u001b[K     |██████████▋                     | 686kB 16.5MB/s eta 0:00:01\r\u001b[K     |██████████▉                     | 696kB 16.5MB/s eta 0:00:01\r\u001b[K     |███████████                     | 706kB 16.5MB/s eta 0:00:01\r\u001b[K     |███████████▏                    | 716kB 16.5MB/s eta 0:00:01\r\u001b[K     |███████████▎                    | 727kB 16.5MB/s eta 0:00:01\r\u001b[K     |███████████▌                    | 737kB 16.5MB/s eta 0:00:01\r\u001b[K     |███████████▋                    | 747kB 16.5MB/s eta 0:00:01\r\u001b[K     |███████████▊                    | 757kB 16.5MB/s eta 0:00:01\r\u001b[K     |████████████                    | 768kB 16.5MB/s eta 0:00:01\r\u001b[K     |████████████                    | 778kB 16.5MB/s eta 0:00:01\r\u001b[K     |████████████▎                   | 788kB 16.5MB/s eta 0:00:01\r\u001b[K     |████████████▍                   | 798kB 16.5MB/s eta 0:00:01\r\u001b[K     |████████████▋                   | 808kB 16.5MB/s eta 0:00:01\r\u001b[K     |████████████▊                   | 819kB 16.5MB/s eta 0:00:01\r\u001b[K     |████████████▉                   | 829kB 16.5MB/s eta 0:00:01\r\u001b[K     |█████████████                   | 839kB 16.5MB/s eta 0:00:01\r\u001b[K     |█████████████▏                  | 849kB 16.5MB/s eta 0:00:01\r\u001b[K     |█████████████▍                  | 860kB 16.5MB/s eta 0:00:01\r\u001b[K     |█████████████▌                  | 870kB 16.5MB/s eta 0:00:01\r\u001b[K     |█████████████▊                  | 880kB 16.5MB/s eta 0:00:01\r\u001b[K     |█████████████▉                  | 890kB 16.5MB/s eta 0:00:01\r\u001b[K     |██████████████                  | 901kB 16.5MB/s eta 0:00:01\r\u001b[K     |██████████████▏                 | 911kB 16.5MB/s eta 0:00:01\r\u001b[K     |██████████████▎                 | 921kB 16.5MB/s eta 0:00:01\r\u001b[K     |██████████████▌                 | 931kB 16.5MB/s eta 0:00:01\r\u001b[K     |██████████████▋                 | 942kB 16.5MB/s eta 0:00:01\r\u001b[K     |██████████████▉                 | 952kB 16.5MB/s eta 0:00:01\r\u001b[K     |███████████████                 | 962kB 16.5MB/s eta 0:00:01\r\u001b[K     |███████████████                 | 972kB 16.5MB/s eta 0:00:01\r\u001b[K     |███████████████▎                | 983kB 16.5MB/s eta 0:00:01\r\u001b[K     |███████████████▍                | 993kB 16.5MB/s eta 0:00:01\r\u001b[K     |███████████████▋                | 1.0MB 16.5MB/s eta 0:00:01\r\u001b[K     |███████████████▊                | 1.0MB 16.5MB/s eta 0:00:01\r\u001b[K     |████████████████                | 1.0MB 16.5MB/s eta 0:00:01\r\u001b[K     |████████████████                | 1.0MB 16.5MB/s eta 0:00:01\r\u001b[K     |████████████████▏               | 1.0MB 16.5MB/s eta 0:00:01\r\u001b[K     |████████████████▍               | 1.1MB 16.5MB/s eta 0:00:01\r\u001b[K     |████████████████▌               | 1.1MB 16.5MB/s eta 0:00:01\r\u001b[K     |████████████████▊               | 1.1MB 16.5MB/s eta 0:00:01\r\u001b[K     |████████████████▉               | 1.1MB 16.5MB/s eta 0:00:01\r\u001b[K     |█████████████████               | 1.1MB 16.5MB/s eta 0:00:01\r\u001b[K     |█████████████████▏              | 1.1MB 16.5MB/s eta 0:00:01\r\u001b[K     |█████████████████▍              | 1.1MB 16.5MB/s eta 0:00:01\r\u001b[K     |█████████████████▌              | 1.1MB 16.5MB/s eta 0:00:01\r\u001b[K     |█████████████████▋              | 1.1MB 16.5MB/s eta 0:00:01\r\u001b[K     |█████████████████▉              | 1.1MB 16.5MB/s eta 0:00:01\r\u001b[K     |██████████████████              | 1.2MB 16.5MB/s eta 0:00:01\r\u001b[K     |██████████████████▏             | 1.2MB 16.5MB/s eta 0:00:01\r\u001b[K     |██████████████████▎             | 1.2MB 16.5MB/s eta 0:00:01\r\u001b[K     |██████████████████▌             | 1.2MB 16.5MB/s eta 0:00:01\r\u001b[K     |██████████████████▋             | 1.2MB 16.5MB/s eta 0:00:01\r\u001b[K     |██████████████████▊             | 1.2MB 16.5MB/s eta 0:00:01\r\u001b[K     |███████████████████             | 1.2MB 16.5MB/s eta 0:00:01\r\u001b[K     |███████████████████             | 1.2MB 16.5MB/s eta 0:00:01\r\u001b[K     |███████████████████▎            | 1.2MB 16.5MB/s eta 0:00:01\r\u001b[K     |███████████████████▍            | 1.2MB 16.5MB/s eta 0:00:01\r\u001b[K     |███████████████████▋            | 1.3MB 16.5MB/s eta 0:00:01\r\u001b[K     |███████████████████▊            | 1.3MB 16.5MB/s eta 0:00:01\r\u001b[K     |███████████████████▉            | 1.3MB 16.5MB/s eta 0:00:01\r\u001b[K     |████████████████████            | 1.3MB 16.5MB/s eta 0:00:01\r\u001b[K     |████████████████████▏           | 1.3MB 16.5MB/s eta 0:00:01\r\u001b[K     |████████████████████▍           | 1.3MB 16.5MB/s eta 0:00:01\r\u001b[K     |████████████████████▌           | 1.3MB 16.5MB/s eta 0:00:01\r\u001b[K     |████████████████████▊           | 1.3MB 16.5MB/s eta 0:00:01\r\u001b[K     |████████████████████▉           | 1.3MB 16.5MB/s eta 0:00:01\r\u001b[K     |█████████████████████           | 1.4MB 16.5MB/s eta 0:00:01\r\u001b[K     |█████████████████████▏          | 1.4MB 16.5MB/s eta 0:00:01\r\u001b[K     |█████████████████████▎          | 1.4MB 16.5MB/s eta 0:00:01\r\u001b[K     |█████████████████████▌          | 1.4MB 16.5MB/s eta 0:00:01\r\u001b[K     |█████████████████████▋          | 1.4MB 16.5MB/s eta 0:00:01\r\u001b[K     |█████████████████████▉          | 1.4MB 16.5MB/s eta 0:00:01\r\u001b[K     |██████████████████████          | 1.4MB 16.5MB/s eta 0:00:01\r\u001b[K     |██████████████████████          | 1.4MB 16.5MB/s eta 0:00:01\r\u001b[K     |██████████████████████▎         | 1.4MB 16.5MB/s eta 0:00:01\r\u001b[K     |██████████████████████▍         | 1.4MB 16.5MB/s eta 0:00:01\r\u001b[K     |██████████████████████▋         | 1.5MB 16.5MB/s eta 0:00:01\r\u001b[K     |██████████████████████▊         | 1.5MB 16.5MB/s eta 0:00:01\r\u001b[K     |███████████████████████         | 1.5MB 16.5MB/s eta 0:00:01\r\u001b[K     |███████████████████████         | 1.5MB 16.5MB/s eta 0:00:01\r\u001b[K     |███████████████████████▏        | 1.5MB 16.5MB/s eta 0:00:01\r\u001b[K     |███████████████████████▍        | 1.5MB 16.5MB/s eta 0:00:01\r\u001b[K     |███████████████████████▌        | 1.5MB 16.5MB/s eta 0:00:01\r\u001b[K     |███████████████████████▊        | 1.5MB 16.5MB/s eta 0:00:01\r\u001b[K     |███████████████████████▉        | 1.5MB 16.5MB/s eta 0:00:01\r\u001b[K     |████████████████████████        | 1.5MB 16.5MB/s eta 0:00:01\r\u001b[K     |████████████████████████▏       | 1.6MB 16.5MB/s eta 0:00:01\r\u001b[K     |████████████████████████▎       | 1.6MB 16.5MB/s eta 0:00:01\r\u001b[K     |████████████████████████▌       | 1.6MB 16.5MB/s eta 0:00:01\r\u001b[K     |████████████████████████▋       | 1.6MB 16.5MB/s eta 0:00:01\r\u001b[K     |████████████████████████▉       | 1.6MB 16.5MB/s eta 0:00:01\r\u001b[K     |█████████████████████████       | 1.6MB 16.5MB/s eta 0:00:01\r\u001b[K     |█████████████████████████▏      | 1.6MB 16.5MB/s eta 0:00:01\r\u001b[K     |█████████████████████████▎      | 1.6MB 16.5MB/s eta 0:00:01\r\u001b[K     |█████████████████████████▍      | 1.6MB 16.5MB/s eta 0:00:01\r\u001b[K     |█████████████████████████▋      | 1.6MB 16.5MB/s eta 0:00:01\r\u001b[K     |█████████████████████████▊      | 1.7MB 16.5MB/s eta 0:00:01\r\u001b[K     |██████████████████████████      | 1.7MB 16.5MB/s eta 0:00:01\r\u001b[K     |██████████████████████████      | 1.7MB 16.5MB/s eta 0:00:01\r\u001b[K     |██████████████████████████▎     | 1.7MB 16.5MB/s eta 0:00:01\r\u001b[K     |██████████████████████████▍     | 1.7MB 16.5MB/s eta 0:00:01\r\u001b[K     |██████████████████████████▋     | 1.7MB 16.5MB/s eta 0:00:01\r\u001b[K     |██████████████████████████▊     | 1.7MB 16.5MB/s eta 0:00:01\r\u001b[K     |██████████████████████████▉     | 1.7MB 16.5MB/s eta 0:00:01\r\u001b[K     |███████████████████████████     | 1.7MB 16.5MB/s eta 0:00:01\r\u001b[K     |███████████████████████████▏    | 1.8MB 16.5MB/s eta 0:00:01\r\u001b[K     |███████████████████████████▍    | 1.8MB 16.5MB/s eta 0:00:01\r\u001b[K     |███████████████████████████▌    | 1.8MB 16.5MB/s eta 0:00:01\r\u001b[K     |███████████████████████████▊    | 1.8MB 16.5MB/s eta 0:00:01\r\u001b[K     |███████████████████████████▉    | 1.8MB 16.5MB/s eta 0:00:01\r\u001b[K     |████████████████████████████    | 1.8MB 16.5MB/s eta 0:00:01\r\u001b[K     |████████████████████████████▏   | 1.8MB 16.5MB/s eta 0:00:01\r\u001b[K     |████████████████████████████▎   | 1.8MB 16.5MB/s eta 0:00:01\r\u001b[K     |████████████████████████████▌   | 1.8MB 16.5MB/s eta 0:00:01\r\u001b[K     |████████████████████████████▋   | 1.8MB 16.5MB/s eta 0:00:01\r\u001b[K     |████████████████████████████▉   | 1.9MB 16.5MB/s eta 0:00:01\r\u001b[K     |█████████████████████████████   | 1.9MB 16.5MB/s eta 0:00:01\r\u001b[K     |█████████████████████████████   | 1.9MB 16.5MB/s eta 0:00:01\r\u001b[K     |█████████████████████████████▎  | 1.9MB 16.5MB/s eta 0:00:01\r\u001b[K     |█████████████████████████████▍  | 1.9MB 16.5MB/s eta 0:00:01\r\u001b[K     |█████████████████████████████▋  | 1.9MB 16.5MB/s eta 0:00:01\r\u001b[K     |█████████████████████████████▊  | 1.9MB 16.5MB/s eta 0:00:01\r\u001b[K     |██████████████████████████████  | 1.9MB 16.5MB/s eta 0:00:01\r\u001b[K     |██████████████████████████████  | 1.9MB 16.5MB/s eta 0:00:01\r\u001b[K     |██████████████████████████████▏ | 1.9MB 16.5MB/s eta 0:00:01\r\u001b[K     |██████████████████████████████▍ | 2.0MB 16.5MB/s eta 0:00:01\r\u001b[K     |██████████████████████████████▌ | 2.0MB 16.5MB/s eta 0:00:01\r\u001b[K     |██████████████████████████████▊ | 2.0MB 16.5MB/s eta 0:00:01\r\u001b[K     |██████████████████████████████▉ | 2.0MB 16.5MB/s eta 0:00:01\r\u001b[K     |███████████████████████████████ | 2.0MB 16.5MB/s eta 0:00:01\r\u001b[K     |███████████████████████████████▏| 2.0MB 16.5MB/s eta 0:00:01\r\u001b[K     |███████████████████████████████▎| 2.0MB 16.5MB/s eta 0:00:01\r\u001b[K     |███████████████████████████████▌| 2.0MB 16.5MB/s eta 0:00:01\r\u001b[K     |███████████████████████████████▋| 2.0MB 16.5MB/s eta 0:00:01\r\u001b[K     |███████████████████████████████▉| 2.0MB 16.5MB/s eta 0:00:01\r\u001b[K     |████████████████████████████████| 2.1MB 16.5MB/s eta 0:00:01\r\u001b[K     |████████████████████████████████| 2.1MB 16.5MB/s \n",
            "\u001b[?25hRequirement already satisfied: numpy>=1.17 in /usr/local/lib/python3.7/dist-packages (from transformers) (1.19.5)\n",
            "Collecting tokenizers<0.11,>=0.10.1\n",
            "\u001b[?25l  Downloading https://files.pythonhosted.org/packages/ae/04/5b870f26a858552025a62f1649c20d29d2672c02ff3c3fb4c688ca46467a/tokenizers-0.10.2-cp37-cp37m-manylinux2010_x86_64.whl (3.3MB)\n",
            "\u001b[K     |████████████████████████████████| 3.3MB 43.7MB/s \n",
            "\u001b[?25hRequirement already satisfied: importlib-metadata; python_version < \"3.8\" in /usr/local/lib/python3.7/dist-packages (from transformers) (3.10.1)\n",
            "Requirement already satisfied: filelock in /usr/local/lib/python3.7/dist-packages (from transformers) (3.0.12)\n",
            "Requirement already satisfied: regex!=2019.12.17 in /usr/local/lib/python3.7/dist-packages (from transformers) (2019.12.20)\n",
            "Requirement already satisfied: requests in /usr/local/lib/python3.7/dist-packages (from transformers) (2.23.0)\n",
            "Requirement already satisfied: packaging in /usr/local/lib/python3.7/dist-packages (from transformers) (20.9)\n",
            "Collecting sacremoses\n",
            "\u001b[?25l  Downloading https://files.pythonhosted.org/packages/08/cd/342e584ee544d044fb573ae697404ce22ede086c9e87ce5960772084cad0/sacremoses-0.0.44.tar.gz (862kB)\n",
            "\u001b[K     |████████████████████████████████| 870kB 49.5MB/s \n",
            "\u001b[?25hRequirement already satisfied: tqdm>=4.27 in /usr/local/lib/python3.7/dist-packages (from transformers) (4.41.1)\n",
            "Requirement already satisfied: typing-extensions>=3.6.4; python_version < \"3.8\" in /usr/local/lib/python3.7/dist-packages (from importlib-metadata; python_version < \"3.8\"->transformers) (3.7.4.3)\n",
            "Requirement already satisfied: zipp>=0.5 in /usr/local/lib/python3.7/dist-packages (from importlib-metadata; python_version < \"3.8\"->transformers) (3.4.1)\n",
            "Requirement already satisfied: chardet<4,>=3.0.2 in /usr/local/lib/python3.7/dist-packages (from requests->transformers) (3.0.4)\n",
            "Requirement already satisfied: certifi>=2017.4.17 in /usr/local/lib/python3.7/dist-packages (from requests->transformers) (2020.12.5)\n",
            "Requirement already satisfied: idna<3,>=2.5 in /usr/local/lib/python3.7/dist-packages (from requests->transformers) (2.10)\n",
            "Requirement already satisfied: urllib3!=1.25.0,!=1.25.1,<1.26,>=1.21.1 in /usr/local/lib/python3.7/dist-packages (from requests->transformers) (1.24.3)\n",
            "Requirement already satisfied: pyparsing>=2.0.2 in /usr/local/lib/python3.7/dist-packages (from packaging->transformers) (2.4.7)\n",
            "Requirement already satisfied: six in /usr/local/lib/python3.7/dist-packages (from sacremoses->transformers) (1.15.0)\n",
            "Requirement already satisfied: click in /usr/local/lib/python3.7/dist-packages (from sacremoses->transformers) (7.1.2)\n",
            "Requirement already satisfied: joblib in /usr/local/lib/python3.7/dist-packages (from sacremoses->transformers) (1.0.1)\n",
            "Building wheels for collected packages: sacremoses\n",
            "  Building wheel for sacremoses (setup.py) ... \u001b[?25l\u001b[?25hdone\n",
            "  Created wheel for sacremoses: filename=sacremoses-0.0.44-cp37-none-any.whl size=886084 sha256=a63b50980b5809735e8311d193bc3549869152277552553f0d704ef3f0a04a75\n",
            "  Stored in directory: /root/.cache/pip/wheels/3e/fb/c0/13ab4d63d537658f448366744654323077c4d90069b6512f3c\n",
            "Successfully built sacremoses\n",
            "Installing collected packages: tokenizers, sacremoses, transformers\n",
            "Successfully installed sacremoses-0.0.44 tokenizers-0.10.2 transformers-4.5.1\n"
          ],
          "name": "stdout"
        }
      ]
    },
    {
      "cell_type": "code",
      "metadata": {
        "colab": {
          "base_uri": "https://localhost:8080/"
        },
        "id": "pifsPydOdAg8",
        "outputId": "f69d7b3a-3468-4590-c211-ead92fc63c2c"
      },
      "source": [
        "import torch\n",
        "import torch.nn as nn\n",
        "from torch.utils.data import Dataset\n",
        "from transformers import BertTokenizer, AutoModel, AutoTokenizer\n",
        "import pandas as pd\n",
        "from torch.utils.data import DataLoader\n",
        "\n",
        "if torch.cuda.is_available():    \n",
        "    print(\"Using GPU\")\n",
        "    device = torch.device(\"cuda\")\n",
        "\n",
        "else:\n",
        "    print('No GPU available, using the CPU instead.')\n",
        "    device = torch.device(\"cpu\")"
      ],
      "execution_count": 3,
      "outputs": [
        {
          "output_type": "stream",
          "text": [
            "Using GPU\n"
          ],
          "name": "stdout"
        }
      ]
    },
    {
      "cell_type": "markdown",
      "metadata": {
        "id": "6w4lMnb1eaEJ"
      },
      "source": [
        "## Présentation de la base"
      ]
    },
    {
      "cell_type": "code",
      "metadata": {
        "colab": {
          "base_uri": "https://localhost:8080/",
          "height": 462
        },
        "id": "tfPW_4-ydTXq",
        "outputId": "f74ce41f-de6d-425e-ec0f-6fec4b8c3264"
      },
      "source": [
        "df = pd.read_csv('train.csv')\n",
        "df.head()"
      ],
      "execution_count": 111,
      "outputs": [
        {
          "output_type": "execute_result",
          "data": {
            "text/html": [
              "<div>\n",
              "<style scoped>\n",
              "    .dataframe tbody tr th:only-of-type {\n",
              "        vertical-align: middle;\n",
              "    }\n",
              "\n",
              "    .dataframe tbody tr th {\n",
              "        vertical-align: top;\n",
              "    }\n",
              "\n",
              "    .dataframe thead th {\n",
              "        text-align: right;\n",
              "    }\n",
              "</style>\n",
              "<table border=\"1\" class=\"dataframe\">\n",
              "  <thead>\n",
              "    <tr style=\"text-align: right;\">\n",
              "      <th></th>\n",
              "      <th>id</th>\n",
              "      <th>target</th>\n",
              "      <th>comment_text</th>\n",
              "      <th>severe_toxicity</th>\n",
              "      <th>obscene</th>\n",
              "      <th>identity_attack</th>\n",
              "      <th>insult</th>\n",
              "      <th>threat</th>\n",
              "      <th>asian</th>\n",
              "      <th>atheist</th>\n",
              "      <th>bisexual</th>\n",
              "      <th>black</th>\n",
              "      <th>buddhist</th>\n",
              "      <th>christian</th>\n",
              "      <th>female</th>\n",
              "      <th>heterosexual</th>\n",
              "      <th>hindu</th>\n",
              "      <th>homosexual_gay_or_lesbian</th>\n",
              "      <th>intellectual_or_learning_disability</th>\n",
              "      <th>jewish</th>\n",
              "      <th>latino</th>\n",
              "      <th>male</th>\n",
              "      <th>muslim</th>\n",
              "      <th>other_disability</th>\n",
              "      <th>other_gender</th>\n",
              "      <th>other_race_or_ethnicity</th>\n",
              "      <th>other_religion</th>\n",
              "      <th>other_sexual_orientation</th>\n",
              "      <th>physical_disability</th>\n",
              "      <th>psychiatric_or_mental_illness</th>\n",
              "      <th>transgender</th>\n",
              "      <th>white</th>\n",
              "      <th>created_date</th>\n",
              "      <th>publication_id</th>\n",
              "      <th>parent_id</th>\n",
              "      <th>article_id</th>\n",
              "      <th>rating</th>\n",
              "      <th>funny</th>\n",
              "      <th>wow</th>\n",
              "      <th>sad</th>\n",
              "      <th>likes</th>\n",
              "      <th>disagree</th>\n",
              "      <th>sexual_explicit</th>\n",
              "      <th>identity_annotator_count</th>\n",
              "      <th>toxicity_annotator_count</th>\n",
              "    </tr>\n",
              "  </thead>\n",
              "  <tbody>\n",
              "    <tr>\n",
              "      <th>0</th>\n",
              "      <td>59848</td>\n",
              "      <td>0.000000</td>\n",
              "      <td>This is so cool. It's like, 'would you want yo...</td>\n",
              "      <td>0.000000</td>\n",
              "      <td>0.0</td>\n",
              "      <td>0.000000</td>\n",
              "      <td>0.00000</td>\n",
              "      <td>0.0</td>\n",
              "      <td>NaN</td>\n",
              "      <td>NaN</td>\n",
              "      <td>NaN</td>\n",
              "      <td>NaN</td>\n",
              "      <td>NaN</td>\n",
              "      <td>NaN</td>\n",
              "      <td>NaN</td>\n",
              "      <td>NaN</td>\n",
              "      <td>NaN</td>\n",
              "      <td>NaN</td>\n",
              "      <td>NaN</td>\n",
              "      <td>NaN</td>\n",
              "      <td>NaN</td>\n",
              "      <td>NaN</td>\n",
              "      <td>NaN</td>\n",
              "      <td>NaN</td>\n",
              "      <td>NaN</td>\n",
              "      <td>NaN</td>\n",
              "      <td>NaN</td>\n",
              "      <td>NaN</td>\n",
              "      <td>NaN</td>\n",
              "      <td>NaN</td>\n",
              "      <td>NaN</td>\n",
              "      <td>NaN</td>\n",
              "      <td>2015-09-29 10:50:41.987077+00</td>\n",
              "      <td>2</td>\n",
              "      <td>NaN</td>\n",
              "      <td>2006</td>\n",
              "      <td>rejected</td>\n",
              "      <td>0</td>\n",
              "      <td>0</td>\n",
              "      <td>0</td>\n",
              "      <td>0</td>\n",
              "      <td>0</td>\n",
              "      <td>0.0</td>\n",
              "      <td>0</td>\n",
              "      <td>4</td>\n",
              "    </tr>\n",
              "    <tr>\n",
              "      <th>1</th>\n",
              "      <td>59849</td>\n",
              "      <td>0.000000</td>\n",
              "      <td>Thank you!! This would make my life a lot less...</td>\n",
              "      <td>0.000000</td>\n",
              "      <td>0.0</td>\n",
              "      <td>0.000000</td>\n",
              "      <td>0.00000</td>\n",
              "      <td>0.0</td>\n",
              "      <td>NaN</td>\n",
              "      <td>NaN</td>\n",
              "      <td>NaN</td>\n",
              "      <td>NaN</td>\n",
              "      <td>NaN</td>\n",
              "      <td>NaN</td>\n",
              "      <td>NaN</td>\n",
              "      <td>NaN</td>\n",
              "      <td>NaN</td>\n",
              "      <td>NaN</td>\n",
              "      <td>NaN</td>\n",
              "      <td>NaN</td>\n",
              "      <td>NaN</td>\n",
              "      <td>NaN</td>\n",
              "      <td>NaN</td>\n",
              "      <td>NaN</td>\n",
              "      <td>NaN</td>\n",
              "      <td>NaN</td>\n",
              "      <td>NaN</td>\n",
              "      <td>NaN</td>\n",
              "      <td>NaN</td>\n",
              "      <td>NaN</td>\n",
              "      <td>NaN</td>\n",
              "      <td>NaN</td>\n",
              "      <td>2015-09-29 10:50:42.870083+00</td>\n",
              "      <td>2</td>\n",
              "      <td>NaN</td>\n",
              "      <td>2006</td>\n",
              "      <td>rejected</td>\n",
              "      <td>0</td>\n",
              "      <td>0</td>\n",
              "      <td>0</td>\n",
              "      <td>0</td>\n",
              "      <td>0</td>\n",
              "      <td>0.0</td>\n",
              "      <td>0</td>\n",
              "      <td>4</td>\n",
              "    </tr>\n",
              "    <tr>\n",
              "      <th>2</th>\n",
              "      <td>59852</td>\n",
              "      <td>0.000000</td>\n",
              "      <td>This is such an urgent design problem; kudos t...</td>\n",
              "      <td>0.000000</td>\n",
              "      <td>0.0</td>\n",
              "      <td>0.000000</td>\n",
              "      <td>0.00000</td>\n",
              "      <td>0.0</td>\n",
              "      <td>NaN</td>\n",
              "      <td>NaN</td>\n",
              "      <td>NaN</td>\n",
              "      <td>NaN</td>\n",
              "      <td>NaN</td>\n",
              "      <td>NaN</td>\n",
              "      <td>NaN</td>\n",
              "      <td>NaN</td>\n",
              "      <td>NaN</td>\n",
              "      <td>NaN</td>\n",
              "      <td>NaN</td>\n",
              "      <td>NaN</td>\n",
              "      <td>NaN</td>\n",
              "      <td>NaN</td>\n",
              "      <td>NaN</td>\n",
              "      <td>NaN</td>\n",
              "      <td>NaN</td>\n",
              "      <td>NaN</td>\n",
              "      <td>NaN</td>\n",
              "      <td>NaN</td>\n",
              "      <td>NaN</td>\n",
              "      <td>NaN</td>\n",
              "      <td>NaN</td>\n",
              "      <td>NaN</td>\n",
              "      <td>2015-09-29 10:50:45.222647+00</td>\n",
              "      <td>2</td>\n",
              "      <td>NaN</td>\n",
              "      <td>2006</td>\n",
              "      <td>rejected</td>\n",
              "      <td>0</td>\n",
              "      <td>0</td>\n",
              "      <td>0</td>\n",
              "      <td>0</td>\n",
              "      <td>0</td>\n",
              "      <td>0.0</td>\n",
              "      <td>0</td>\n",
              "      <td>4</td>\n",
              "    </tr>\n",
              "    <tr>\n",
              "      <th>3</th>\n",
              "      <td>59855</td>\n",
              "      <td>0.000000</td>\n",
              "      <td>Is this something I'll be able to install on m...</td>\n",
              "      <td>0.000000</td>\n",
              "      <td>0.0</td>\n",
              "      <td>0.000000</td>\n",
              "      <td>0.00000</td>\n",
              "      <td>0.0</td>\n",
              "      <td>NaN</td>\n",
              "      <td>NaN</td>\n",
              "      <td>NaN</td>\n",
              "      <td>NaN</td>\n",
              "      <td>NaN</td>\n",
              "      <td>NaN</td>\n",
              "      <td>NaN</td>\n",
              "      <td>NaN</td>\n",
              "      <td>NaN</td>\n",
              "      <td>NaN</td>\n",
              "      <td>NaN</td>\n",
              "      <td>NaN</td>\n",
              "      <td>NaN</td>\n",
              "      <td>NaN</td>\n",
              "      <td>NaN</td>\n",
              "      <td>NaN</td>\n",
              "      <td>NaN</td>\n",
              "      <td>NaN</td>\n",
              "      <td>NaN</td>\n",
              "      <td>NaN</td>\n",
              "      <td>NaN</td>\n",
              "      <td>NaN</td>\n",
              "      <td>NaN</td>\n",
              "      <td>NaN</td>\n",
              "      <td>2015-09-29 10:50:47.601894+00</td>\n",
              "      <td>2</td>\n",
              "      <td>NaN</td>\n",
              "      <td>2006</td>\n",
              "      <td>rejected</td>\n",
              "      <td>0</td>\n",
              "      <td>0</td>\n",
              "      <td>0</td>\n",
              "      <td>0</td>\n",
              "      <td>0</td>\n",
              "      <td>0.0</td>\n",
              "      <td>0</td>\n",
              "      <td>4</td>\n",
              "    </tr>\n",
              "    <tr>\n",
              "      <th>4</th>\n",
              "      <td>59856</td>\n",
              "      <td>0.893617</td>\n",
              "      <td>haha you guys are a bunch of losers.</td>\n",
              "      <td>0.021277</td>\n",
              "      <td>0.0</td>\n",
              "      <td>0.021277</td>\n",
              "      <td>0.87234</td>\n",
              "      <td>0.0</td>\n",
              "      <td>0.0</td>\n",
              "      <td>0.0</td>\n",
              "      <td>0.0</td>\n",
              "      <td>0.0</td>\n",
              "      <td>0.0</td>\n",
              "      <td>0.0</td>\n",
              "      <td>0.0</td>\n",
              "      <td>0.0</td>\n",
              "      <td>0.0</td>\n",
              "      <td>0.0</td>\n",
              "      <td>0.25</td>\n",
              "      <td>0.0</td>\n",
              "      <td>0.0</td>\n",
              "      <td>0.0</td>\n",
              "      <td>0.0</td>\n",
              "      <td>0.0</td>\n",
              "      <td>0.0</td>\n",
              "      <td>0.0</td>\n",
              "      <td>0.0</td>\n",
              "      <td>0.0</td>\n",
              "      <td>0.0</td>\n",
              "      <td>0.0</td>\n",
              "      <td>0.0</td>\n",
              "      <td>0.0</td>\n",
              "      <td>2015-09-29 10:50:48.488476+00</td>\n",
              "      <td>2</td>\n",
              "      <td>NaN</td>\n",
              "      <td>2006</td>\n",
              "      <td>rejected</td>\n",
              "      <td>0</td>\n",
              "      <td>0</td>\n",
              "      <td>0</td>\n",
              "      <td>1</td>\n",
              "      <td>0</td>\n",
              "      <td>0.0</td>\n",
              "      <td>4</td>\n",
              "      <td>47</td>\n",
              "    </tr>\n",
              "  </tbody>\n",
              "</table>\n",
              "</div>"
            ],
            "text/plain": [
              "      id    target  ... identity_annotator_count  toxicity_annotator_count\n",
              "0  59848  0.000000  ...                        0                         4\n",
              "1  59849  0.000000  ...                        0                         4\n",
              "2  59852  0.000000  ...                        0                         4\n",
              "3  59855  0.000000  ...                        0                         4\n",
              "4  59856  0.893617  ...                        4                        47\n",
              "\n",
              "[5 rows x 45 columns]"
            ]
          },
          "metadata": {
            "tags": []
          },
          "execution_count": 111
        }
      ]
    },
    {
      "cell_type": "markdown",
      "metadata": {
        "id": "WgidrgofgMkk"
      },
      "source": [
        "Class imbalance :"
      ]
    },
    {
      "cell_type": "code",
      "metadata": {
        "colab": {
          "base_uri": "https://localhost:8080/",
          "height": 293
        },
        "id": "G_fb0B1pgH-r",
        "outputId": "49644ab3-8b1c-4087-bb0f-9d59e1c79b2c"
      },
      "source": [
        "df['target'].hist()"
      ],
      "execution_count": 112,
      "outputs": [
        {
          "output_type": "execute_result",
          "data": {
            "text/plain": [
              "<matplotlib.axes._subplots.AxesSubplot at 0x7f1b1d60b750>"
            ]
          },
          "metadata": {
            "tags": []
          },
          "execution_count": 112
        },
        {
          "output_type": "display_data",
          "data": {
            "image/png": "[encoded data removed]",
            "text/plain": [
              "<Figure size 432x288 with 1 Axes>"
            ]
          },
          "metadata": {
            "tags": [],
            "needs_background": "light"
          }
        }
      ]
    },
    {
      "cell_type": "markdown",
      "metadata": {
        "id": "ZBhfbT3fgRGa"
      },
      "source": [
        "D'apres kaggle, la baseline est \"mauvais commentaire $\\Leftrightarrow$ toxic $\\ge$ 0.5\", donc grosse class unbalance\n",
        "\n",
        "La base est giganteque donc pour les premiers essais je garde que les phrases de toxitié non nulle et j'en prends 10.000"
      ]
    },
    {
      "cell_type": "code",
      "metadata": {
        "id": "RuasStg6iwCz"
      },
      "source": [
        "# n = nombre de phrases a prendre (trop long pour faire les tests)\n",
        "df = pd.concat([df[df['target'] > 0].sample(n=50000), df[df['target'] == 0].sample(n=10000)]).sample(frac=1)"
      ],
      "execution_count": 113,
      "outputs": []
    },
    {
      "cell_type": "code",
      "metadata": {
        "id": "hKLAAI1QgoEG"
      },
      "source": [
        "sentences = df.comment_text.values\n",
        "labels = df.target.values"
      ],
      "execution_count": 114,
      "outputs": []
    },
    {
      "cell_type": "code",
      "metadata": {
        "id": "-x2P53ygpnPX",
        "outputId": "7caa3ca5-8d2e-4330-e254-aae924a4e43b",
        "colab": {
          "base_uri": "https://localhost:8080/",
          "height": 265
        }
      },
      "source": [
        "plt.hist(labels, bins=20);"
      ],
      "execution_count": 121,
      "outputs": [
        {
          "output_type": "display_data",
          "data": {
            "image/png": "[encoded data removed]",
            "text/plain": [
              "<Figure size 432x288 with 1 Axes>"
            ]
          },
          "metadata": {
            "tags": [],
            "needs_background": "light"
          }
        }
      ]
    },
    {
      "cell_type": "markdown",
      "metadata": {
        "id": "rmAnuWsEoMDd"
      },
      "source": [
        "Preprocessing des phrases"
      ]
    },
    {
      "cell_type": "code",
      "metadata": {
        "id": "8vu_GHpFgyX5"
      },
      "source": [
        "from transformers import BertTokenizer\n",
        "tokenizer = BertTokenizer.from_pretrained('bert-base-uncased', do_lower_case=True)"
      ],
      "execution_count": 122,
      "outputs": []
    },
    {
      "cell_type": "markdown",
      "metadata": {
        "id": "IZx2hUxCoSFQ"
      },
      "source": [
        "Tokenisation selon les normes de BERT (avec l'option add_special_tokens qui met les BOS/EOS) "
      ]
    },
    {
      "cell_type": "code",
      "metadata": {
        "colab": {
          "base_uri": "https://localhost:8080/"
        },
        "id": "sR7YdYw8hNzL",
        "outputId": "ac107008-48a8-47f6-a17c-40c31debfb0b"
      },
      "source": [
        "inputs = []\n",
        "from tqdm import tqdm\n",
        "for sentence in tqdm(sentences, position=0):\n",
        "    encoded_sent = tokenizer.encode(sentence,                  \n",
        "                                    add_special_tokens = True, \n",
        "                                    )\n",
        "    \n",
        "    inputs.append(encoded_sent)"
      ],
      "execution_count": 123,
      "outputs": [
        {
          "output_type": "stream",
          "text": [
            "100%|██████████| 60000/60000 [01:23<00:00, 717.72it/s]\n"
          ],
          "name": "stderr"
        }
      ]
    },
    {
      "cell_type": "code",
      "metadata": {
        "colab": {
          "base_uri": "https://localhost:8080/"
        },
        "id": "G6FChlnnjg_o",
        "outputId": "fda12370-aeb1-4155-8c3f-d2e343d65b7a"
      },
      "source": [
        "print('Max sentence length: ', max([len(sen) for sen in inputs]))"
      ],
      "execution_count": 124,
      "outputs": [
        {
          "output_type": "stream",
          "text": [
            "Max sentence length:  394\n"
          ],
          "name": "stdout"
        }
      ]
    },
    {
      "cell_type": "code",
      "metadata": {
        "colab": {
          "base_uri": "https://localhost:8080/",
          "height": 265
        },
        "id": "8dbicgsBvTL6",
        "outputId": "12dee383-a10d-4866-f740-46b0aacc9ab1"
      },
      "source": [
        "from matplotlib import pyplot as plt\n",
        "sizes = [len(sen) for sen in inputs]\n",
        "plt.hist(sizes, bins=50);"
      ],
      "execution_count": 127,
      "outputs": [
        {
          "output_type": "display_data",
          "data": {
            "image/png": "[encoded data removed]",
            "text/plain": [
              "<Figure size 432x288 with 1 Axes>"
            ]
          },
          "metadata": {
            "tags": [],
            "needs_background": "light"
          }
        }
      ]
    },
    {
      "cell_type": "code",
      "metadata": {
        "id": "ofGOJk_wwBWv"
      },
      "source": [
        "import numpy as np\n",
        "inputs_idx = np.argwhere(np.array(sizes) <= 128)\n",
        "clean_inputs = []\n",
        "clean_labels = []\n",
        "\n",
        "for i, input in enumerate(inputs):\n",
        "    if sizes[i] <= 128:\n",
        "        clean_inputs.append(input)\n",
        "        clean_labels.append(labels[i])"
      ],
      "execution_count": 128,
      "outputs": []
    },
    {
      "cell_type": "code",
      "metadata": {
        "colab": {
          "base_uri": "https://localhost:8080/"
        },
        "id": "_ndhw0_J0Azu",
        "outputId": "3952ac7f-85e2-4161-f838-d81d74ad28d9"
      },
      "source": [
        "print('Max sentence length: ', max([len(sen) for sen in clean_inputs]))"
      ],
      "execution_count": 129,
      "outputs": [
        {
          "output_type": "stream",
          "text": [
            "Max sentence length:  128\n"
          ],
          "name": "stdout"
        }
      ]
    },
    {
      "cell_type": "code",
      "metadata": {
        "id": "u942GKxujqfC"
      },
      "source": [
        "from keras.preprocessing.sequence import pad_sequences\n",
        "\n",
        "MAX_LEN = 128\n",
        "\n",
        "clean_inputs = pad_sequences(clean_inputs, maxlen=MAX_LEN, dtype=\"long\", \n",
        "                          value=0, truncating=\"post\", padding=\"post\")"
      ],
      "execution_count": 130,
      "outputs": []
    },
    {
      "cell_type": "code",
      "metadata": {
        "id": "9-uWV-yYj4Tv"
      },
      "source": [
        "attention_masks = []\n",
        "\n",
        "for sent in clean_inputs:    \n",
        "    # Create the attention mask.\n",
        "    #   - If a token ID is 0, then it's padding, set the mask to 0.\n",
        "    #   - If a token ID is > 0, then it's a real token, set the mask to 1.\n",
        "    att_mask = [int(token_id > 0) for token_id in sent]\n",
        "    \n",
        "    attention_masks.append(att_mask)"
      ],
      "execution_count": 131,
      "outputs": []
    },
    {
      "cell_type": "code",
      "metadata": {
        "id": "tyIcoLxPmmwC"
      },
      "source": [
        "from sklearn.model_selection import train_test_split\n",
        "# Use 80% for training and 20% for validation.\n",
        "train_inputs, validation_inputs, train_labels, validation_labels = train_test_split(clean_inputs, clean_labels, \n",
        "                                                            random_state=2021, test_size=0.2)\n",
        "# Do the same for the masks.\n",
        "train_masks, validation_masks, _, _ = train_test_split(attention_masks, clean_labels,\n",
        "                                             random_state=2021, test_size=0.2)"
      ],
      "execution_count": 132,
      "outputs": []
    },
    {
      "cell_type": "code",
      "metadata": {
        "id": "AR3hB0MKmwBW"
      },
      "source": [
        "train_inputs = torch.tensor(train_inputs)\n",
        "validation_inputs = torch.tensor(validation_inputs)\n",
        "train_labels = torch.tensor(train_labels)\n",
        "validation_labels = torch.tensor(validation_labels)\n",
        "train_masks = torch.tensor(train_masks)\n",
        "validation_masks = torch.tensor(validation_masks)"
      ],
      "execution_count": 133,
      "outputs": []
    },
    {
      "cell_type": "code",
      "metadata": {
        "id": "uwtfUctJm1YA"
      },
      "source": [
        "from torch.utils.data import TensorDataset, DataLoader, RandomSampler, SequentialSampler\n",
        "\n",
        "batch_size = 32\n",
        "\n",
        "# Create the DataLoader for our training set.\n",
        "train_data = TensorDataset(train_inputs, train_masks, train_labels)\n",
        "train_sampler = RandomSampler(train_data)\n",
        "train_dataloader = DataLoader(train_data, sampler=train_sampler, batch_size=batch_size)\n",
        "# Create the DataLoader for our validation set.\n",
        "validation_data = TensorDataset(validation_inputs, validation_masks, validation_labels)\n",
        "validation_sampler = SequentialSampler(validation_data)\n",
        "validation_dataloader = DataLoader(validation_data, sampler=validation_sampler, batch_size=batch_size)"
      ],
      "execution_count": 134,
      "outputs": []
    },
    {
      "cell_type": "code",
      "metadata": {
        "id": "87_mWymznDgw"
      },
      "source": [
        "import torch.nn.functional as F\n",
        "\n",
        "class ToxicPredictor(nn.Module):\n",
        "\n",
        "    def __init__(self, pretrained_model_name='bert-base-uncased'):\n",
        "        super(ToxicPredictor, self).__init__()\n",
        "        \n",
        "        #Loading Mask Language Model \n",
        "        self.encoder = AutoModel.from_pretrained(pretrained_model_name)\n",
        "\n",
        "        #we append an extra layer for predicting toxicity (it will be randomly initialized)\n",
        "        self.fc1 = nn.Linear(self.encoder.pooler.dense.out_features, 100)\n",
        "        self.fc2 = nn.Linear(100, 1)\n",
        "\n",
        "    def forward(self, seq, attn_masks):\n",
        "        '''\n",
        "        Inputs:\n",
        "            -seq : Tensor of shape [B, T] containing token ids of sequences\n",
        "            -attn_masks : Tensor of shape [B, T] containing attention masks to be used to avoid contibution of PAD tokens\n",
        "        '''\n",
        "\n",
        "        #Feeding the input to BERT model to obtain contextualized representations\n",
        "        # see in the hugging face doc what to input\n",
        "        #cont_reps = #  self.encoder(..)..\n",
        "        cont_reps = self.encoder(seq, attention_mask = attn_masks)\n",
        "        #Obtaining the representation of [CLS] head\n",
        "        pool = cont_reps[\"pooler_output\"]\n",
        "\n",
        "        x = F.relu(self.fc1(pool))\n",
        "        pred = torch.sigmoid(self.fc2(x))\n",
        "\n",
        "        return pred\n"
      ],
      "execution_count": 137,
      "outputs": []
    },
    {
      "cell_type": "code",
      "metadata": {
        "id": "dIpa7PmfsksS"
      },
      "source": [
        "import gc\n",
        "del model\n",
        "gc.collect()"
      ],
      "execution_count": null,
      "outputs": []
    },
    {
      "cell_type": "code",
      "metadata": {
        "id": "_27pJtANne9_"
      },
      "source": [
        "model = ToxicPredictor('bert-base-uncased').to(device)"
      ],
      "execution_count": 140,
      "outputs": []
    },
    {
      "cell_type": "code",
      "metadata": {
        "id": "E9B2njS5sCf6"
      },
      "source": [
        "for param in model.encoder.parameters():\n",
        "    param.requires_grad = False"
      ],
      "execution_count": 143,
      "outputs": []
    },
    {
      "cell_type": "code",
      "metadata": {
        "id": "sRpCBZ3CrRyY"
      },
      "source": [
        ""
      ],
      "execution_count": null,
      "outputs": []
    },
    {
      "cell_type": "code",
      "metadata": {
        "id": "C5zc1tHKnoKa"
      },
      "source": [
        "import torch.nn as nn\n",
        "import torch.optim as optim\n",
        "# define the loss and optimizer \n",
        "criterion = nn.BCELoss()\n",
        "opti = optim.Adam([{'params':model.fc2.parameters()}, {'params':model.fc1.parameters()}], lr = 1e-3)"
      ],
      "execution_count": 144,
      "outputs": []
    },
    {
      "cell_type": "code",
      "metadata": {
        "colab": {
          "base_uri": "https://localhost:8080/"
        },
        "id": "hOC5uEqfV4Ze",
        "outputId": "6d499002-8e97-40f6-e927-dd9c9a7e4ccb"
      },
      "source": [
        "!pip install livelossplot"
      ],
      "execution_count": 30,
      "outputs": [
        {
          "output_type": "stream",
          "text": [
            "Collecting livelossplot\n",
            "  Downloading https://files.pythonhosted.org/packages/57/26/840be243088ce142d61c60273408ec09fa1de4534056a56d6e91b73f0cae/livelossplot-0.5.4-py3-none-any.whl\n",
            "Requirement already satisfied: ipython in /usr/local/lib/python3.7/dist-packages (from livelossplot) (5.5.0)\n",
            "Requirement already satisfied: matplotlib in /usr/local/lib/python3.7/dist-packages (from livelossplot) (3.2.2)\n",
            "Requirement already satisfied: bokeh in /usr/local/lib/python3.7/dist-packages (from livelossplot) (2.3.1)\n",
            "Requirement already satisfied: pexpect; sys_platform != \"win32\" in /usr/local/lib/python3.7/dist-packages (from ipython->livelossplot) (4.8.0)\n",
            "Requirement already satisfied: pygments in /usr/local/lib/python3.7/dist-packages (from ipython->livelossplot) (2.6.1)\n",
            "Requirement already satisfied: traitlets>=4.2 in /usr/local/lib/python3.7/dist-packages (from ipython->livelossplot) (5.0.5)\n",
            "Requirement already satisfied: pickleshare in /usr/local/lib/python3.7/dist-packages (from ipython->livelossplot) (0.7.5)\n",
            "Requirement already satisfied: decorator in /usr/local/lib/python3.7/dist-packages (from ipython->livelossplot) (4.4.2)\n",
            "Requirement already satisfied: prompt-toolkit<2.0.0,>=1.0.4 in /usr/local/lib/python3.7/dist-packages (from ipython->livelossplot) (1.0.18)\n",
            "Requirement already satisfied: setuptools>=18.5 in /usr/local/lib/python3.7/dist-packages (from ipython->livelossplot) (54.2.0)\n",
            "Requirement already satisfied: simplegeneric>0.8 in /usr/local/lib/python3.7/dist-packages (from ipython->livelossplot) (0.8.1)\n",
            "Requirement already satisfied: cycler>=0.10 in /usr/local/lib/python3.7/dist-packages (from matplotlib->livelossplot) (0.10.0)\n",
            "Requirement already satisfied: pyparsing!=2.0.4,!=2.1.2,!=2.1.6,>=2.0.1 in /usr/local/lib/python3.7/dist-packages (from matplotlib->livelossplot) (2.4.7)\n",
            "Requirement already satisfied: numpy>=1.11 in /usr/local/lib/python3.7/dist-packages (from matplotlib->livelossplot) (1.19.5)\n",
            "Requirement already satisfied: python-dateutil>=2.1 in /usr/local/lib/python3.7/dist-packages (from matplotlib->livelossplot) (2.8.1)\n",
            "Requirement already satisfied: kiwisolver>=1.0.1 in /usr/local/lib/python3.7/dist-packages (from matplotlib->livelossplot) (1.3.1)\n",
            "Requirement already satisfied: pillow>=7.1.0 in /usr/local/lib/python3.7/dist-packages (from bokeh->livelossplot) (7.1.2)\n",
            "Requirement already satisfied: Jinja2>=2.7 in /usr/local/lib/python3.7/dist-packages (from bokeh->livelossplot) (2.11.3)\n",
            "Requirement already satisfied: PyYAML>=3.10 in /usr/local/lib/python3.7/dist-packages (from bokeh->livelossplot) (3.13)\n",
            "Requirement already satisfied: packaging>=16.8 in /usr/local/lib/python3.7/dist-packages (from bokeh->livelossplot) (20.9)\n",
            "Requirement already satisfied: typing-extensions>=3.7.4 in /usr/local/lib/python3.7/dist-packages (from bokeh->livelossplot) (3.7.4.3)\n",
            "Requirement already satisfied: tornado>=5.1 in /usr/local/lib/python3.7/dist-packages (from bokeh->livelossplot) (5.1.1)\n",
            "Requirement already satisfied: ptyprocess>=0.5 in /usr/local/lib/python3.7/dist-packages (from pexpect; sys_platform != \"win32\"->ipython->livelossplot) (0.7.0)\n",
            "Requirement already satisfied: ipython-genutils in /usr/local/lib/python3.7/dist-packages (from traitlets>=4.2->ipython->livelossplot) (0.2.0)\n",
            "Requirement already satisfied: wcwidth in /usr/local/lib/python3.7/dist-packages (from prompt-toolkit<2.0.0,>=1.0.4->ipython->livelossplot) (0.2.5)\n",
            "Requirement already satisfied: six>=1.9.0 in /usr/local/lib/python3.7/dist-packages (from prompt-toolkit<2.0.0,>=1.0.4->ipython->livelossplot) (1.15.0)\n",
            "Requirement already satisfied: MarkupSafe>=0.23 in /usr/local/lib/python3.7/dist-packages (from Jinja2>=2.7->bokeh->livelossplot) (1.1.1)\n",
            "Installing collected packages: livelossplot\n",
            "Successfully installed livelossplot-0.5.4\n"
          ],
          "name": "stdout"
        }
      ]
    },
    {
      "cell_type": "code",
      "metadata": {
        "id": "lBW2IgrgV9kP"
      },
      "source": [
        "from livelossplot import PlotLosses"
      ],
      "execution_count": 31,
      "outputs": []
    },
    {
      "cell_type": "code",
      "metadata": {
        "id": "huYnSLxdnwTn"
      },
      "source": [
        "def train(model, criterion, opti, train_loader, val_loader, epochs=1):\n",
        "    liveloss = PlotLosses()\n",
        "    for epoch in range(epochs):\n",
        "        logs = {}\n",
        "        \n",
        "        model.train()\n",
        "        tot_loss = 0\n",
        "        for it, (seq, attn_masks, labels) in tqdm(enumerate(train_loader), position=0, total=len(train_loader)):\n",
        "            #Clear gradients\n",
        "            opti.zero_grad()  \n",
        "\n",
        "            #Converting these to cuda tensors\n",
        "            seq, attn_masks, labels = seq.to(device), attn_masks.to(device), labels.to(device)\n",
        "            \n",
        "            preds = model(seq, attn_masks).view(-1)\n",
        "\n",
        "            #Computing loss\n",
        "            loss = criterion(preds, labels.float())\n",
        "\n",
        "            #Backpropagating the gradients\n",
        "            loss.backward()\n",
        "            tot_loss += loss.item()\n",
        "\n",
        "            #Optimization step\n",
        "            opti.step()\n",
        "\n",
        "        logs['loss'] = tot_loss/len(train_loader.dataset)\n",
        "\n",
        "        loss_val = 0\n",
        "        model.eval()  \n",
        "        for it, (seq, attn_masks, labels) in tqdm(enumerate(val_loader), position=0, total=len(val_loader)):                    \n",
        "            seq, attn_masks, labels = seq.to(device), attn_masks.to(device), labels.to(device)\n",
        "            #Obtaining the logits from the model\n",
        "            preds_val = model(seq, attn_masks)\n",
        "        \n",
        "            loss = criterion(preds_val.view(-1), labels.float())\n",
        "  \n",
        "            loss_val += loss.item()\n",
        "        logs['val_loss'] = loss_val/len(val_loader.dataset)\n",
        "\n",
        "        liveloss.update(logs)\n",
        "        liveloss.send()"
      ],
      "execution_count": 75,
      "outputs": []
    },
    {
      "cell_type": "code",
      "metadata": {
        "colab": {
          "base_uri": "https://localhost:8080/",
          "height": 653
        },
        "id": "EjVmAvL4rInd",
        "outputId": "f29842a9-8e8c-44d0-af13-ee2d65edf91a"
      },
      "source": [
        "train(model, criterion, opti, train_dataloader, validation_dataloader, epochs=20)"
      ],
      "execution_count": null,
      "outputs": [
        {
          "output_type": "display_data",
          "data": {
            "image/png": "[encoded data removed]",
            "text/plain": [
              "<Figure size 864x576 with 2 Axes>"
            ]
          },
          "metadata": {
            "tags": [],
            "needs_background": "light"
          }
        },
        {
          "output_type": "stream",
          "text": [
            "\r  0%|          | 0/1238 [00:00<?, ?it/s]"
          ],
          "name": "stderr"
        },
        {
          "output_type": "stream",
          "text": [
            "Loss\n",
            "\ttraining         \t (min:    0.018, max:    0.019, cur:    0.018)\n",
            "\tvalidation       \t (min:    0.018, max:    0.019, cur:    0.018)\n"
          ],
          "name": "stdout"
        },
        {
          "output_type": "stream",
          "text": [
            " 14%|█▍        | 177/1238 [00:43<04:18,  4.11it/s]"
          ],
          "name": "stderr"
        }
      ]
    },
    {
      "cell_type": "code",
      "metadata": {
        "id": "DhzqodF7kIP8"
      },
      "source": [
        "seq, attn_masks, labels = next(iter(train_dataloader))\n",
        "preds = model(seq.to(device), attn_masks.to(device))"
      ],
      "execution_count": 96,
      "outputs": []
    },
    {
      "cell_type": "code",
      "metadata": {
        "id": "mwm7T3zrkQCX",
        "outputId": "047b6b3c-8119-45a5-c583-aba7409de7e8",
        "colab": {
          "base_uri": "https://localhost:8080/"
        }
      },
      "source": [
        "for i in range(len(seq)):\n",
        "    print(\"===============\")\n",
        "    print(tokenizer.decode(seq[i]))\n",
        "    print(\"predicted\", preds[i].item())\n",
        "    print(\"real\", labels[i].item())"
      ],
      "execution_count": 110,
      "outputs": [
        {
          "output_type": "stream",
          "text": [
            "===============\n",
            "[CLS] upon what evidence do you base your opinion that her response was \" phony? \" or that it was \" outrage? \" the outrage that you are expressing shows an appalling lack of sensitivity on your part. why defend rudeness? [SEP] [PAD] [PAD] [PAD] [PAD] [PAD] [PAD] [PAD] [PAD] [PAD] [PAD] [PAD] [PAD] [PAD] [PAD]\n",
            "predicted 0.2583763897418976\n",
            "real 0.1\n",
            "===============\n",
            "[CLS] did adn post anything about the nine us soldiers who were just killed? plenty of articles about a racist draft dodger though. i know, this comment will be censored. [SEP] [PAD] [PAD] [PAD] [PAD] [PAD] [PAD] [PAD] [PAD] [PAD] [PAD] [PAD] [PAD] [PAD] [PAD] [PAD] [PAD] [PAD] [PAD] [PAD] [PAD] [PAD] [PAD] [PAD] [PAD] [PAD]\n",
            "predicted 0.3887404799461365\n",
            "real 0.3\n",
            "===============\n",
            "[CLS] trump is such a moron. [SEP] [PAD] [PAD] [PAD] [PAD] [PAD] [PAD] [PAD] [PAD] [PAD] [PAD] [PAD] [PAD] [PAD] [PAD] [PAD] [PAD] [PAD] [PAD] [PAD] [PAD] [PAD] [PAD] [PAD] [PAD] [PAD] [PAD] [PAD] [PAD] [PAD] [PAD] [PAD] [PAD] [PAD] [PAD] [PAD] [PAD] [PAD] [PAD] [PAD] [PAD] [PAD] [PAD] [PAD] [PAD] [PAD] [PAD] [PAD] [PAD] [PAD] [PAD] [PAD] [PAD] [PAD] [PAD] [PAD]\n",
            "predicted 0.44058436155319214\n",
            "real 0.9482758620689656\n",
            "===============\n",
            "[CLS] good comments! that bills field goal before halftime, which the broncos let them have, was a killer! the no fly zone should never play prevent. i agree that this is a sad day. [SEP] [PAD] [PAD] [PAD] [PAD] [PAD] [PAD] [PAD] [PAD] [PAD] [PAD] [PAD] [PAD] [PAD] [PAD] [PAD] [PAD] [PAD] [PAD] [PAD] [PAD] [PAD] [PAD] [PAD]\n",
            "predicted 0.13767607510089874\n",
            "real 0.16666666666666666\n",
            "===============\n",
            "[CLS] \"... brits are never much use in the heat. \" ah, yes. what's that old saw about \" mad dogs and englishmen \"? [SEP] [PAD] [PAD] [PAD] [PAD] [PAD] [PAD] [PAD] [PAD] [PAD] [PAD] [PAD] [PAD] [PAD] [PAD] [PAD] [PAD] [PAD] [PAD] [PAD] [PAD] [PAD] [PAD] [PAD] [PAD] [PAD] [PAD] [PAD] [PAD]\n",
            "predicted 0.2019786834716797\n",
            "real 0.16666666666666666\n",
            "===============\n",
            "[CLS] this sounds like the behaviour of a relatively hot market before the craziness of the past decade took hold. [SEP] [PAD] [PAD] [PAD] [PAD] [PAD] [PAD] [PAD] [PAD] [PAD] [PAD] [PAD] [PAD] [PAD] [PAD] [PAD] [PAD] [PAD] [PAD] [PAD] [PAD] [PAD] [PAD] [PAD] [PAD] [PAD] [PAD] [PAD] [PAD] [PAD] [PAD] [PAD] [PAD] [PAD] [PAD] [PAD] [PAD] [PAD] [PAD] [PAD] [PAD]\n",
            "predicted 0.1638152152299881\n",
            "real 0.0\n",
            "===============\n",
            "[CLS] tell us how you know what \" turdmaker \" actually wrote? inquiring minds... [SEP] [PAD] [PAD] [PAD] [PAD] [PAD] [PAD] [PAD] [PAD] [PAD] [PAD] [PAD] [PAD] [PAD] [PAD] [PAD] [PAD] [PAD] [PAD] [PAD] [PAD] [PAD] [PAD] [PAD] [PAD] [PAD] [PAD] [PAD] [PAD] [PAD] [PAD] [PAD] [PAD] [PAD] [PAD] [PAD] [PAD] [PAD] [PAD] [PAD] [PAD] [PAD]\n",
            "predicted 0.18984867632389069\n",
            "real 0.16666666666666666\n",
            "===============\n",
            "[CLS] another g & m \" phenom \", so they told us [SEP] [PAD] [PAD] [PAD] [PAD] [PAD] [PAD] [PAD] [PAD] [PAD] [PAD] [PAD] [PAD] [PAD] [PAD] [PAD] [PAD] [PAD] [PAD] [PAD] [PAD] [PAD] [PAD] [PAD] [PAD] [PAD] [PAD] [PAD] [PAD] [PAD] [PAD] [PAD] [PAD] [PAD] [PAD] [PAD] [PAD] [PAD] [PAD] [PAD] [PAD] [PAD] [PAD] [PAD] [PAD] [PAD] [PAD] [PAD] [PAD]\n",
            "predicted 0.17631947994232178\n",
            "real 0.16666666666666666\n",
            "===============\n",
            "[CLS] bs, conservatives are for everyone, profits and jobs, the ndp are for government,,, take your pick, i take jobs and profits any day as you should too.. its what works, it is what has made alberta prosperous all those 4o years under torys. [SEP] [PAD] [PAD] [PAD] [PAD] [PAD] [PAD]\n",
            "predicted 0.222270205616951\n",
            "real 0.16666666666666666\n",
            "===============\n",
            "[CLS] trump is likely the worst thing to have happen to the world at a time like this. [SEP] [PAD] [PAD] [PAD] [PAD] [PAD] [PAD] [PAD] [PAD] [PAD] [PAD] [PAD] [PAD] [PAD] [PAD] [PAD] [PAD] [PAD] [PAD] [PAD] [PAD] [PAD] [PAD] [PAD] [PAD] [PAD] [PAD] [PAD] [PAD] [PAD] [PAD] [PAD] [PAD] [PAD] [PAD] [PAD] [PAD] [PAD] [PAD] [PAD] [PAD] [PAD] [PAD] [PAD] [PAD]\n",
            "predicted 0.3699077069759369\n",
            "real 0.6\n",
            "===============\n",
            "[CLS] when the liberal order is under threat, with trump, brexit and the european far - right making it look like it'll break, there's canada giving us hope. fantastic, to bad it's so bloody cold. [SEP] [PAD] [PAD] [PAD] [PAD] [PAD] [PAD] [PAD] [PAD] [PAD] [PAD] [PAD] [PAD] [PAD] [PAD]\n",
            "predicted 0.20801731944084167\n",
            "real 0.16666666666666666\n",
            "===============\n",
            "[CLS] do we really want eugene to look like colorado with more weed shops than starbuck's, mcdonald's and 7 - 11's combined? too many dispensaries isn't good for anyone. [SEP] [PAD] [PAD] [PAD] [PAD] [PAD] [PAD] [PAD] [PAD] [PAD] [PAD] [PAD] [PAD] [PAD] [PAD] [PAD] [PAD] [PAD] [PAD] [PAD]\n",
            "predicted 0.29053473472595215\n",
            "real 0.16666666666666666\n",
            "===============\n",
            "[CLS] wow ignoring the years of scam corrupt vote buying, lies, deleting government info from drives, waste, and the list goes on and on and on this so called opinion being all but a propaganda advertisement for the liberals is a joke of a column, [SEP] [PAD] [PAD] [PAD] [PAD] [PAD] [PAD] [PAD] [PAD] [PAD] [PAD]\n",
            "predicted 0.40988633036613464\n",
            "real 0.5\n",
            "===============\n",
            "[CLS] if i had a dollar for every radtrad who confused much - needed church reform with \" hatred toward the church \" i would be a rich man. keep living in your fantasy world where imperial romanism is akin to the true spirit and body of christ, i assure you everything will be okay. [SEP] [PAD] [PAD]\n",
            "predicted 0.2733909487724304\n",
            "real 0.2\n",
            "===============\n",
            "[CLS] if you were a wildly cynical democrat and were hoping that president trump would go to puerto rico and say a bunch of things that make him sound awful and racist, you really couldn ’ t top what he actually did do. [SEP] [PAD] [PAD] [PAD] [PAD] [PAD] [PAD] [PAD] [PAD] [PAD] [PAD] [PAD] [PAD] [PAD] [PAD] [PAD] [PAD] [PAD] [PAD]\n",
            "predicted 0.2734207510948181\n",
            "real 0.4\n",
            "===============\n",
            "[CLS] wynne and her band are on the way out. watch them try to buy votes with lots of goodies, basically tax payer money, nothing but bait and switch tactics. [SEP] [PAD] [PAD] [PAD] [PAD] [PAD] [PAD] [PAD] [PAD] [PAD] [PAD] [PAD] [PAD] [PAD] [PAD] [PAD] [PAD] [PAD] [PAD] [PAD] [PAD] [PAD] [PAD] [PAD] [PAD] [PAD] [PAD]\n",
            "predicted 0.34043192863464355\n",
            "real 0.1\n",
            "===============\n",
            "[CLS] beats that reality tv crap, hands - down [SEP] [PAD] [PAD] [PAD] [PAD] [PAD] [PAD] [PAD] [PAD] [PAD] [PAD] [PAD] [PAD] [PAD] [PAD] [PAD] [PAD] [PAD] [PAD] [PAD] [PAD] [PAD] [PAD] [PAD] [PAD] [PAD] [PAD] [PAD] [PAD] [PAD] [PAD] [PAD] [PAD] [PAD] [PAD] [PAD] [PAD] [PAD] [PAD] [PAD] [PAD] [PAD] [PAD] [PAD] [PAD] [PAD] [PAD] [PAD] [PAD] [PAD] [PAD] [PAD] [PAD] [PAD]\n",
            "predicted 0.3590523898601532\n",
            "real 0.6\n",
            "===============\n",
            "[CLS] amazing people doing amazing things! thank you for your dedication. [SEP] [PAD] [PAD] [PAD] [PAD] [PAD] [PAD] [PAD] [PAD] [PAD] [PAD] [PAD] [PAD] [PAD] [PAD] [PAD] [PAD] [PAD] [PAD] [PAD] [PAD] [PAD] [PAD] [PAD] [PAD] [PAD] [PAD] [PAD] [PAD] [PAD] [PAD] [PAD] [PAD] [PAD] [PAD] [PAD] [PAD] [PAD] [PAD] [PAD] [PAD] [PAD] [PAD] [PAD] [PAD] [PAD] [PAD] [PAD] [PAD] [PAD] [PAD]\n",
            "predicted 0.22142475843429565\n",
            "real 0.0\n",
            "===============\n",
            "[CLS] is being a government employee a \" right \" that you just lost? [SEP] [PAD] [PAD] [PAD] [PAD] [PAD] [PAD] [PAD] [PAD] [PAD] [PAD] [PAD] [PAD] [PAD] [PAD] [PAD] [PAD] [PAD] [PAD] [PAD] [PAD] [PAD] [PAD] [PAD] [PAD] [PAD] [PAD] [PAD] [PAD] [PAD] [PAD] [PAD] [PAD] [PAD] [PAD] [PAD] [PAD] [PAD] [PAD] [PAD] [PAD] [PAD] [PAD] [PAD] [PAD] [PAD] [PAD] [PAD] [PAD]\n",
            "predicted 0.2437448799610138\n",
            "real 0.0\n",
            "===============\n",
            "[CLS] jerk of a comment by you but also very telling. ( \" trouble using his own words, lots of breitbart, faux news, hill links. he's big in moscow. \" ) so in other words you have nothing intelligent nor factual to respond with. got it. [SEP] [PAD] [PAD] [PAD] [PAD]\n",
            "predicted 0.19559937715530396\n",
            "real 0.2\n",
            "===============\n",
            "[CLS] trump shuts down trade with south korea and china, and the us economy goes into depression mode. not \" retraction \", not \" recession \". depression. [SEP] [PAD] [PAD] [PAD] [PAD] [PAD] [PAD] [PAD] [PAD] [PAD] [PAD] [PAD] [PAD] [PAD] [PAD] [PAD] [PAD] [PAD] [PAD] [PAD] [PAD] [PAD] [PAD] [PAD] [PAD] [PAD] [PAD] [PAD] [PAD]\n",
            "predicted 0.2264491617679596\n",
            "real 0.14285714285714285\n",
            "===============\n",
            "[CLS] glad to see russia, iran and turkey work to end the war in syria. i'm sure the media will find anything these countries do to end the war will be wrong, dangerous, horrible and some how an evil plot to attack america.. [SEP] [PAD] [PAD] [PAD] [PAD] [PAD] [PAD] [PAD] [PAD] [PAD] [PAD] [PAD] [PAD]\n",
            "predicted 0.19832415878772736\n",
            "real 0.2\n",
            "===============\n",
            "[CLS] thanks for announcing it, asshats. [SEP] [PAD] [PAD] [PAD] [PAD] [PAD] [PAD] [PAD] [PAD] [PAD] [PAD] [PAD] [PAD] [PAD] [PAD] [PAD] [PAD] [PAD] [PAD] [PAD] [PAD] [PAD] [PAD] [PAD] [PAD] [PAD] [PAD] [PAD] [PAD] [PAD] [PAD] [PAD] [PAD] [PAD] [PAD] [PAD] [PAD] [PAD] [PAD] [PAD] [PAD] [PAD] [PAD] [PAD] [PAD] [PAD] [PAD] [PAD] [PAD] [PAD] [PAD] [PAD] [PAD] [PAD]\n",
            "predicted 0.27551326155662537\n",
            "real 0.4264705882352941\n",
            "===============\n",
            "[CLS] trump's an idiot trying to fool non - idiots. [SEP] [PAD] [PAD] [PAD] [PAD] [PAD] [PAD] [PAD] [PAD] [PAD] [PAD] [PAD] [PAD] [PAD] [PAD] [PAD] [PAD] [PAD] [PAD] [PAD] [PAD] [PAD] [PAD] [PAD] [PAD] [PAD] [PAD] [PAD] [PAD] [PAD] [PAD] [PAD] [PAD] [PAD] [PAD] [PAD] [PAD] [PAD] [PAD] [PAD] [PAD] [PAD] [PAD] [PAD] [PAD] [PAD] [PAD] [PAD] [PAD] [PAD] [PAD]\n",
            "predicted 0.4284025728702545\n",
            "real 0.9152542372881356\n",
            "===============\n",
            "[CLS] many reasons to vote no but i'm happy somebody said yes [SEP] [PAD] [PAD] [PAD] [PAD] [PAD] [PAD] [PAD] [PAD] [PAD] [PAD] [PAD] [PAD] [PAD] [PAD] [PAD] [PAD] [PAD] [PAD] [PAD] [PAD] [PAD] [PAD] [PAD] [PAD] [PAD] [PAD] [PAD] [PAD] [PAD] [PAD] [PAD] [PAD] [PAD] [PAD] [PAD] [PAD] [PAD] [PAD] [PAD] [PAD] [PAD] [PAD] [PAD] [PAD] [PAD] [PAD] [PAD] [PAD] [PAD]\n",
            "predicted 0.15667365491390228\n",
            "real 0.2\n",
            "===============\n",
            "[CLS] \" the trump cabinet would be many times richer and more privileged than a group of actors \" and many times more intelligent! [SEP] [PAD] [PAD] [PAD] [PAD] [PAD] [PAD] [PAD] [PAD] [PAD] [PAD] [PAD] [PAD] [PAD] [PAD] [PAD] [PAD] [PAD] [PAD] [PAD] [PAD] [PAD] [PAD] [PAD] [PAD] [PAD] [PAD] [PAD] [PAD] [PAD] [PAD] [PAD] [PAD] [PAD] [PAD] [PAD] [PAD] [PAD] [PAD]\n",
            "predicted 0.2313663214445114\n",
            "real 0.2\n",
            "===============\n",
            "[CLS] bennet, obama's and the socialists lapdog does not speak for me. [SEP] [PAD] [PAD] [PAD] [PAD] [PAD] [PAD] [PAD] [PAD] [PAD] [PAD] [PAD] [PAD] [PAD] [PAD] [PAD] [PAD] [PAD] [PAD] [PAD] [PAD] [PAD] [PAD] [PAD] [PAD] [PAD] [PAD] [PAD] [PAD] [PAD] [PAD] [PAD] [PAD] [PAD] [PAD] [PAD] [PAD] [PAD] [PAD] [PAD] [PAD] [PAD] [PAD] [PAD] [PAD] [PAD]\n",
            "predicted 0.32097068428993225\n",
            "real 1.0\n",
            "===============\n",
            "[CLS] bernier on the defence today. laughable. so who's the loser, biker chick boy? [SEP] [PAD] [PAD] [PAD] [PAD] [PAD] [PAD] [PAD] [PAD] [PAD] [PAD] [PAD] [PAD] [PAD] [PAD] [PAD] [PAD] [PAD] [PAD] [PAD] [PAD] [PAD] [PAD] [PAD] [PAD] [PAD] [PAD] [PAD] [PAD] [PAD] [PAD] [PAD] [PAD] [PAD] [PAD] [PAD] [PAD] [PAD] [PAD] [PAD] [PAD] [PAD]\n",
            "predicted 0.268008828163147\n",
            "real 0.5915492957746479\n",
            "===============\n",
            "[CLS] massive corruption exposed. well done! the police and npa will do nothing. south africans need to rise up now and reclaim our country from this cabal of shameless thieves. [SEP] [PAD] [PAD] [PAD] [PAD] [PAD] [PAD] [PAD] [PAD] [PAD] [PAD] [PAD] [PAD] [PAD] [PAD] [PAD] [PAD] [PAD] [PAD] [PAD] [PAD] [PAD] [PAD] [PAD] [PAD] [PAD] [PAD]\n",
            "predicted 0.3337480127811432\n",
            "real 0.4342105263157895\n",
            "===============\n",
            "[CLS] no doubt he will do victory tours commemorating curtis lemay's incineration of tokyo as well as the visits to japan by the enola gay and bock's car. [SEP] [PAD] [PAD] [PAD] [PAD] [PAD] [PAD] [PAD] [PAD] [PAD] [PAD] [PAD] [PAD] [PAD] [PAD] [PAD] [PAD] [PAD] [PAD] [PAD] [PAD] [PAD] [PAD] [PAD] [PAD] [PAD]\n",
            "predicted 0.17800335586071014\n",
            "real 0.2\n",
            "===============\n",
            "[CLS] republicans are the biggest jerks and the most cruel humans on earth. the world hates you! [SEP] [PAD] [PAD] [PAD] [PAD] [PAD] [PAD] [PAD] [PAD] [PAD] [PAD] [PAD] [PAD] [PAD] [PAD] [PAD] [PAD] [PAD] [PAD] [PAD] [PAD] [PAD] [PAD] [PAD] [PAD] [PAD] [PAD] [PAD] [PAD] [PAD] [PAD] [PAD] [PAD] [PAD] [PAD] [PAD] [PAD] [PAD] [PAD] [PAD] [PAD] [PAD] [PAD] [PAD]\n",
            "predicted 0.7458494901657104\n",
            "real 0.9\n",
            "===============\n",
            "[CLS] but they aren't going to replace them with the party of \" give me my free stuff \" sorry! [SEP] [PAD] [PAD] [PAD] [PAD] [PAD] [PAD] [PAD] [PAD] [PAD] [PAD] [PAD] [PAD] [PAD] [PAD] [PAD] [PAD] [PAD] [PAD] [PAD] [PAD] [PAD] [PAD] [PAD] [PAD] [PAD] [PAD] [PAD] [PAD] [PAD] [PAD] [PAD] [PAD] [PAD] [PAD] [PAD] [PAD] [PAD] [PAD] [PAD] [PAD]\n",
            "predicted 0.33557257056236267\n",
            "real 0.3\n"
          ],
          "name": "stdout"
        }
      ]
    }
  ]
}